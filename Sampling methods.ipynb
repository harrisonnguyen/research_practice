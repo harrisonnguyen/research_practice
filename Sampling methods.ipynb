{
 "cells": [
  {
   "cell_type": "code",
   "execution_count": 24,
   "metadata": {
    "collapsed": true
   },
   "outputs": [],
   "source": [
    "import numpy as np\n",
    "import matplotlib.pyplot as plt\n",
    "%matplotlib inline"
   ]
  },
  {
   "cell_type": "markdown",
   "metadata": {},
   "source": [
    "# Monte Carlo approximations"
   ]
  },
  {
   "cell_type": "markdown",
   "metadata": {},
   "source": [
    "https://theclevermachine.wordpress.com/2012/09/22/monte-carlo-approximations/"
   ]
  },
  {
   "cell_type": "markdown",
   "metadata": {},
   "source": [
    "We often run into integrals that take the form\n",
    "$$ I = \\int_a^b h(x)g(x)dx $$"
   ]
  },
  {
   "cell_type": "markdown",
   "metadata": {},
   "source": [
    "For Monte Carlo approximations, we follow these steps\n",
    "1. Identify $h(x)$\n",
    "2. Identify $g(x)$ and from it determine $p(x)$ and $C$\n",
    "3. Draw $N$ independent samples from $p(x)$\n",
    "4. Evaluate $I=C\\mathbb{E}[h(x)] \\approx \\frac{C}{N}\\sum_i^Nh(x_i)$"
   ]
  },
  {
   "cell_type": "markdown",
   "metadata": {},
   "source": [
    "### Approximating integral $xe^x$"
   ]
  },
  {
   "cell_type": "code",
   "execution_count": 11,
   "metadata": {
    "collapsed": false
   },
   "outputs": [
    {
     "name": "stdout",
     "output_type": "stream",
     "text": [
      "1.07548475502\n"
     ]
    }
   ],
   "source": [
    "## h(x) = xe^x\n",
    "## g(x) = 1\n",
    "## p(x) = 1/(b-a) it is a uniform distribution\n",
    "N1 = 500\n",
    "x = np.random.uniform(size=(1,N1))\n",
    "I_hat1 = np.sum(x*np.exp(x))/N1\n",
    "print I_hat1"
   ]
  },
  {
   "cell_type": "code",
   "execution_count": 12,
   "metadata": {
    "collapsed": false
   },
   "outputs": [
    {
     "name": "stdout",
     "output_type": "stream",
     "text": [
      "0.997627160071\n"
     ]
    }
   ],
   "source": [
    "N2 = 50000\n",
    "x = np.random.uniform(size=(1,N2))\n",
    "I_hat2 = np.sum(x*np.exp(x))/N2\n",
    "print I_hat2"
   ]
  },
  {
   "cell_type": "markdown",
   "metadata": {},
   "source": [
    "### Approximating expected value of beta distribution"
   ]
  },
  {
   "cell_type": "markdown",
   "metadata": {},
   "source": [
    "We will calculate\n",
    "$$ \\mathbb{E}[x] = \\int_{p(x)}p(x)xdx $$"
   ]
  },
  {
   "cell_type": "code",
   "execution_count": 14,
   "metadata": {
    "collapsed": false
   },
   "outputs": [
    {
     "name": "stdout",
     "output_type": "stream",
     "text": [
      "0.166711137778\n"
     ]
    }
   ],
   "source": [
    "##h(x) = x\n",
    "##g(x) = p(x) where p(x) = Beta(\\alpha1,\\alpha2)\n",
    "## p(x) = g(x)\n",
    "x = np.random.beta(2,10,size= (1,N2))\n",
    "I_hat_beta = np.sum(x)/N2\n",
    "print I_hat_beta"
   ]
  },
  {
   "cell_type": "markdown",
   "metadata": {},
   "source": [
    "## Markov Chains"
   ]
  },
  {
   "cell_type": "code",
   "execution_count": 17,
   "metadata": {
    "collapsed": false
   },
   "outputs": [],
   "source": [
    "P = np.array([[0.8, 0.15, 0.05],\n",
    "              [0.4, 0.5, 0.1],\n",
    "              [0.1, 0.3, 0.6]]) #transition probabilities"
   ]
  },
  {
   "cell_type": "code",
   "execution_count": 20,
   "metadata": {
    "collapsed": false
   },
   "outputs": [],
   "source": [
    "nWeeks = 25\n",
    "X = np.zeros((nWeeks,3))\n",
    "X[0,:] = [0,0,1] #initial state is rainy"
   ]
  },
  {
   "cell_type": "code",
   "execution_count": 22,
   "metadata": {
    "collapsed": false
   },
   "outputs": [],
   "source": [
    "for i in range(1,nWeeks):\n",
    "    X[i,:] = np.dot(X[i-1,:],P)"
   ]
  },
  {
   "cell_type": "code",
   "execution_count": 39,
   "metadata": {
    "collapsed": false
   },
   "outputs": [
    {
     "data": {
      "text/plain": [
       "<matplotlib.legend.Legend at 0x7f9f8b074a50>"
      ]
     },
     "execution_count": 39,
     "metadata": {},
     "output_type": "execute_result"
    },
    {
     "data": {
      "image/png": "[encoded data removed]",
      "text/plain": [
       "<matplotlib.figure.Figure at 0x7f9f8b1e2190>"
      ]
     },
     "metadata": {},
     "output_type": "display_data"
    }
   ],
   "source": [
    "x = range(0,nWeeks)\n",
    "sunny, = plt.plot(x,X[:,0],label='Sunny')\n",
    "foggy, = plt.plot(x,X[:,1],label ='Foggy')\n",
    "rainy, = plt.plot(x,X[:,2],label='Rainy')\n",
    "plt.xlabel('Weeks')\n",
    "plt.ylabel('p(Weather)')\n",
    "plt.legend(handles=[sunny,foggy,rainy])"
   ]
  },
  {
   "cell_type": "markdown",
   "metadata": {},
   "source": [
    "### Continuous state-space Markov chains"
   ]
  },
  {
   "cell_type": "markdown",
   "metadata": {},
   "source": [
    "We can use the stationary distribution of a continuous state-space Markov chain in order to sample from a continuous probability distribution: we  run a Markov chain for a sufficient amount of time so that it has reached its stationary distribution, then keep the states that the chain visits as samples from that stationary distribution.\n",
    "\n",
    "In the following example we define a continuous state-space Markov chain. The transition operator is a Normal distribution with unit variance and a mean that is half the distance between zero and the previous state, and the distribution over initial conditions is a Normal distribution with zero mean and unit variance.\n",
    "\n",
    "To ensure that the chain has moved sufficiently far from the initial conditions and that we are sampling  from the chain’s stationary distribution,  we will choose to throw away the first 50 burn in states of the chain. We can also run multiple chains simultaneously in order to sample the stationary distribution more densely. Here we choose to run 5 chains simultaneously."
   ]
  },
  {
   "cell_type": "code",
   "execution_count": 40,
   "metadata": {
    "collapsed": true
   },
   "outputs": [],
   "source": [
    "nBurnin = 50\n",
    "nChains = 5\n",
    "nTransitions = 1000\n",
    "x = np.zeros((nTransitions,nChains))\n",
    "x[0,:] = np.random.normal(0,1,size = (1,nChains))"
   ]
  },
  {
   "cell_type": "code",
   "execution_count": 42,
   "metadata": {
    "collapsed": false
   },
   "outputs": [],
   "source": [
    "for i in range(1,nTransitions):\n",
    "    x[i,:] = np.random.normal(0.5*x[i-1,:],1,size=(1,nChains))"
   ]
  },
  {
   "cell_type": "code",
   "execution_count": 45,
   "metadata": {
    "collapsed": false
   },
   "outputs": [],
   "source": [
    "samples = x[nBurnin+1:,:]"
   ]
  },
  {
   "cell_type": "code",
   "execution_count": 56,
   "metadata": {
    "collapsed": false
   },
   "outputs": [
    {
     "data": {
      "text/plain": [
       "(array([  0.,   0.,   0.,   0.,   1.,   1.,   3.,   2.,   7.,   8.,  16.,\n",
       "         21.,  34.,  39.,  38.,  43.,  72.,  69.,  85.,  75.,  86.,  87.,\n",
       "         49.,  47.,  36.,  30.,  36.,  24.,  19.,  11.,   3.,   2.,   4.,\n",
       "          0.,   0.,   1.,   0.,   0.,   0.]),\n",
       " array([-2.        , -1.8974359 , -1.79487179, -1.69230769, -1.58974359,\n",
       "        -1.48717949, -1.38461538, -1.28205128, -1.17948718, -1.07692308,\n",
       "        -0.97435897, -0.87179487, -0.76923077, -0.66666667, -0.56410256,\n",
       "        -0.46153846, -0.35897436, -0.25641026, -0.15384615, -0.05128205,\n",
       "         0.05128205,  0.15384615,  0.25641026,  0.35897436,  0.46153846,\n",
       "         0.56410256,  0.66666667,  0.76923077,  0.87179487,  0.97435897,\n",
       "         1.07692308,  1.17948718,  1.28205128,  1.38461538,  1.48717949,\n",
       "         1.58974359,  1.69230769,  1.79487179,  1.8974359 ,  2.        ]),\n",
       " <a list of 39 Patch objects>)"
      ]
     },
     "execution_count": 56,
     "metadata": {},
     "output_type": "execute_result"
    },
    {
     "data": {
      "image/png": "[encoded data removed]",
      "text/plain": [
       "<matplotlib.figure.Figure at 0x7f9f8b1ec690>"
      ]
     },
     "metadata": {},
     "output_type": "display_data"
    }
   ],
   "source": [
    "bins = np.linspace(-2,2,40)\n",
    "plt.hist(np.mean(samples,axis=1),bins)"
   ]
  },
  {
   "cell_type": "markdown",
   "metadata": {},
   "source": [
    "## Metropolis algorithm"
   ]
  },
  {
   "cell_type": "markdown",
   "metadata": {},
   "source": [
    "The algorithm is as follows:\n",
    "1. set $t=0$\n",
    "2. generate an initial state from a prior distribution over initial states\n",
    "3. repeat until $t=M$\n",
    "      1. set $t=t+1$\n",
    "      2. generate a proposal state $x^*$ from $q(x|x^{(t-1)})$\n",
    "      3. calculate the acceptance probability $\\alpha = \\min(1,\\frac{p(x^*)}{p(x^{(t-1)})})$\n",
    "      4. draw a random number $u$ from $Unif(0,1)$\n",
    "           1. if $u\\leq \\alpha$ accept the proposal and set $x^{(t)} = x^*$\n",
    "           2. else set $x^{(t)} = x^{(t-1)}$"
   ]
  },
  {
   "cell_type": "markdown",
   "metadata": {},
   "source": [
    "Suppose we want to sample from the function\n",
    "$$p(x) = (1+x^2)^{-1} $$ \n",
    "We define the prior distribution of initial states from\n",
    "$$\\pi^{(0)}\\sim \\mathcal{N}(0,1)$$\n",
    "The proposal distribution is defined as:\n",
    "$$q(x|x^{(t-1)})\\sim \\mathcal{N}(x^{(t-1)},1) $$"
   ]
  },
  {
   "cell_type": "code",
   "execution_count": 83,
   "metadata": {
    "collapsed": false
   },
   "outputs": [],
   "source": [
    "nSamples = 5000\n",
    "nBurnIn = 500\n",
    "sigma = 1\n",
    "\n",
    "#initialise sampler\n",
    "x = np.zeros((1,nSamples))\n",
    "x[0,0] = np.random.uniform(size=(1,1))"
   ]
  },
  {
   "cell_type": "code",
   "execution_count": 84,
   "metadata": {
    "collapsed": false
   },
   "outputs": [],
   "source": [
    "def p(x):\n",
    "    return 1/(1+x**2)"
   ]
  },
  {
   "cell_type": "code",
   "execution_count": 94,
   "metadata": {
    "collapsed": false
   },
   "outputs": [],
   "source": [
    "#run the sampler\n",
    "for i in range(1,nSamples):\n",
    "    #sample from proposal\n",
    "    xStar = np.random.normal(x[0,i-1],sigma)\n",
    "    #calculate acceptance probability\n",
    "    prob = p(xStar)/p(x[0,i-1])\n",
    "    alpha = min([1,prob])\n",
    "    \n",
    "    #accept or reject\n",
    "    u = np.random.uniform()\n",
    "    if u < alpha:\n",
    "        x[0,i] = xStar\n",
    "    else:\n",
    "        x[0,i] = x[0,i-1]"
   ]
  },
  {
   "cell_type": "code",
   "execution_count": 95,
   "metadata": {
    "collapsed": false
   },
   "outputs": [],
   "source": [
    "samples = x[0,nBurnIn:]"
   ]
  },
  {
   "cell_type": "code",
   "execution_count": 71,
   "metadata": {
    "collapsed": false
   },
   "outputs": [
    {
     "data": {
      "text/plain": [
       "1.9155517023968194"
      ]
     },
     "execution_count": 71,
     "metadata": {},
     "output_type": "execute_result"
    }
   ],
   "source": [
    "np.random.normal(0.5,sigma)"
   ]
  },
  {
   "cell_type": "code",
   "execution_count": null,
   "metadata": {
    "collapsed": true
   },
   "outputs": [],
   "source": []
  }
 ],
 "metadata": {
  "kernelspec": {
   "display_name": "Python 2",
   "language": "python",
   "name": "python2"
  },
  "language_info": {
   "codemirror_mode": {
    "name": "ipython",
    "version": 2
   },
   "file_extension": ".py",
   "mimetype": "text/x-python",
   "name": "python",
   "nbconvert_exporter": "python",
   "pygments_lexer": "ipython2",
   "version": "2.7.12"
  }
 },
 "nbformat": 4,
 "nbformat_minor": 1
}
