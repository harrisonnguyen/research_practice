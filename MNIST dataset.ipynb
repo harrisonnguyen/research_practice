{
 "cells": [
  {
   "cell_type": "markdown",
   "metadata": {},
   "source": [
    "# Displaying the MNIST data set"
   ]
  },
  {
   "cell_type": "code",
   "execution_count": 1,
   "metadata": {
    "collapsed": false
   },
   "outputs": [],
   "source": [
    "import mnist\n",
    "%matplotlib inline\n",
    "import numpy as np"
   ]
  },
  {
   "cell_type": "code",
   "execution_count": 2,
   "metadata": {
    "collapsed": true
   },
   "outputs": [],
   "source": [
    "images,labels = mnist.load(range(0,10)) #load the mnist training set"
   ]
  },
  {
   "cell_type": "code",
   "execution_count": 3,
   "metadata": {
    "collapsed": true
   },
   "outputs": [],
   "source": [
    "N = len(images) #number of training examples"
   ]
  },
  {
   "cell_type": "markdown",
   "metadata": {},
   "source": [
    "### Split the images to left and right data sets"
   ]
  },
  {
   "cell_type": "code",
   "execution_count": 4,
   "metadata": {
    "collapsed": false,
    "scrolled": true
   },
   "outputs": [],
   "source": [
    "left_images = np.zeros((images.shape[0],images.shape[1],images.shape[2]/2))\n",
    "right_images = np.zeros((images.shape[0],images.shape[1],images.shape[2]/2))"
   ]
  },
  {
   "cell_type": "code",
   "execution_count": 5,
   "metadata": {
    "collapsed": false
   },
   "outputs": [],
   "source": [
    "for i in range(0,len(images)):\n",
    "    left_images[i] = images[i][:,:14]\n",
    "    right_images[i] = images[i][:,14:28]"
   ]
  },
  {
   "cell_type": "code",
   "execution_count": 6,
   "metadata": {
    "collapsed": false
   },
   "outputs": [
    {
     "data": {
      "image/png": "[encoded data removed]",
      "text/plain": [
       "<matplotlib.figure.Figure at 0x6a807f0>"
      ]
     },
     "metadata": {},
     "output_type": "display_data"
    }
   ],
   "source": [
    "mnist.show(left_images[3])"
   ]
  },
  {
   "cell_type": "code",
   "execution_count": 7,
   "metadata": {
    "collapsed": true
   },
   "outputs": [],
   "source": [
    "#convert images to image vector\n",
    "flatten_left = np.zeros((len(images),14*28))\n",
    "flatten_right = np.zeros((len(images),14*28))\n",
    "for i in range(0,len(images)):\n",
    "    flatten_left[i] =left_images[i].flatten()\n",
    "    flatten_right[i] =right_images[i].flatten()"
   ]
  },
  {
   "cell_type": "code",
   "execution_count": 8,
   "metadata": {
    "collapsed": false
   },
   "outputs": [
    {
     "data": {
      "text/plain": [
       "(60000L, 392L)"
      ]
     },
     "execution_count": 8,
     "metadata": {},
     "output_type": "execute_result"
    }
   ],
   "source": [
    "flatten_left.shape"
   ]
  },
  {
   "cell_type": "markdown",
   "metadata": {},
   "source": [
    "# Perform CCA"
   ]
  },
  {
   "cell_type": "code",
   "execution_count": 9,
   "metadata": {
    "collapsed": false
   },
   "outputs": [],
   "source": [
    "def qr_CCA(X,Y,n_components = 2):\n",
    "    #perform qr decomposition for X and Y\n",
    "    q1,r1 = np.linalg.qr(X)\n",
    "    q2,r2 = np.linalg.qr(Y)\n",
    "    #perform SVD of q1 and q2\n",
    "    U,s,Vh = np.linalg.svd(np.dot(q1.T,q2))\n",
    "    \n",
    "    a = np.dot(np.linalg.pinv(r1),U[:,:n_components])\n",
    "    b = np.dot(np.linalg.pinv(r2),Vh.T[:,:n_components])\n",
    "    return a,s[:n_components],b"
   ]
  },
  {
   "cell_type": "code",
   "execution_count": 10,
   "metadata": {
    "collapsed": false
   },
   "outputs": [
    {
     "data": {
      "text/plain": [
       "37.993969088651795"
      ]
     },
     "execution_count": 10,
     "metadata": {},
     "output_type": "execute_result"
    }
   ],
   "source": [
    "a,s,b = qr_CCA(flatten_left,flatten_right,n_components=50)\n",
    "sum(s)"
   ]
  },
  {
   "cell_type": "code",
   "execution_count": 11,
   "metadata": {
    "collapsed": false
   },
   "outputs": [],
   "source": [
    "def KCCA(X,Y,ktype = 'gaussian',epsilon = 1.0,n_components = 1):\n",
    "    ndata_x, nfeature_x = X.shape\n",
    "    ndata_y, nfeature_y = Y.shape\n",
    "    \n",
    "    #create the kernel matrix\n",
    "    Kx = make_kernel(X,ktype=ktype)\n",
    "    Ky = make_kernel(Y,ktype=ktype)\n",
    "    \n",
    "    I = epsilon * np.eye(ndata_x)\n",
    "    \n",
    "    #solve the eigemproblem\n",
    "    KxI_inv = np.linalg.pinv(Kx + I)\n",
    "    KyI_inv = np.linalg.pinv(Ky+I)\n",
    "    \n",
    "    L = np.dot(KxI_inv, np.dot(Ky, np.dot(KyI_inv,Kx)))\n",
    "    U, s, Vh = scipy.linalg.svd(L)\n",
    "    \n",
    "    alpha = np.dot(KxI_inv, U[:, :n_components])\n",
    "    beta = np.dot(KyI_inv, Vh.T[:, :n_components])\n",
    "    \n",
    "    return alpha,beta,s[:n_components]"
   ]
  },
  {
   "cell_type": "code",
   "execution_count": 12,
   "metadata": {
    "collapsed": false
   },
   "outputs": [],
   "source": [
    "#create a kernel matrix for the data\n",
    "def make_kernel(data,ktype = 'gaussian',gausigma = 1.0):\n",
    "    if ktype == 'gaussian':\n",
    "        from scipy.spatial.distance import pdist, squareform\n",
    "        pairwise_dists = squareform(pdist(data, 'euclidean')) #compute pairwise distances\n",
    "        kernel = np.exp(-pairwise_dists ** 2 / gausigma ** 2) #apply the RBF kernel\n",
    "    elif ktype == 'linear':\n",
    "        data =  data- np.mean(data,0)\n",
    "        kernel = np.dot(data,data.T)\n",
    "    return kernel"
   ]
  },
  {
   "cell_type": "code",
   "execution_count": null,
   "metadata": {
    "collapsed": true
   },
   "outputs": [],
   "source": [
    "a,s,b = KCCA(flatten_left[:1000,:],flatten_right[:5000,:],n_components=50)"
   ]
  },
  {
   "cell_type": "code",
   "execution_count": 19,
   "metadata": {
    "collapsed": false
   },
   "outputs": [],
   "source": [
    "from sklearn.metrics.pairwise import pairwise_kernels"
   ]
  },
  {
   "cell_type": "code",
   "execution_count": 28,
   "metadata": {
    "collapsed": false
   },
   "outputs": [],
   "source": [
    "test =pairwise_kernels(flatten_left.T,metric='rbf')"
   ]
  },
  {
   "cell_type": "code",
   "execution_count": 30,
   "metadata": {
    "collapsed": false
   },
   "outputs": [
    {
     "data": {
      "text/plain": [
       "(392L, 392L)"
      ]
     },
     "execution_count": 30,
     "metadata": {},
     "output_type": "execute_result"
    }
   ],
   "source": [
    "kernel = np.exp(flatten_left[0,:])"
   ]
  },
  {
   "cell_type": "code",
   "execution_count": 94,
   "metadata": {
    "collapsed": false
   },
   "outputs": [],
   "source": [
    "b = 100\n",
    "Cx = np.zeros((b,N))\n",
    "for i in range(0,N):\n",
    "    Cx[:,i] = np.exp(-np.linalg.norm(\n",
    "            (flatten_left[0:b,:] - flatten_left[i,:]),axis=1)**2/1.0**2)"
   ]
  },
  {
   "cell_type": "code",
   "execution_count": 108,
   "metadata": {
    "collapsed": false
   },
   "outputs": [],
   "source": [
    "Sx = np.zeros((50,50))\n",
    "Ux = np.zeros((N,50))\n",
    "Vx = np.zeros((50,50))"
   ]
  },
  {
   "cell_type": "code",
   "execution_count": 99,
   "metadata": {
    "collapsed": true
   },
   "outputs": [],
   "source": [
    "Cx = Cx.T"
   ]
  },
  {
   "cell_type": "code",
   "execution_count": 102,
   "metadata": {
    "collapsed": false
   },
   "outputs": [],
   "source": [
    "L = np.dot(Ux.T,Cx) #compute projection"
   ]
  },
  {
   "cell_type": "code",
   "execution_count": 106,
   "metadata": {
    "collapsed": false
   },
   "outputs": [],
   "source": [
    "H = Cx - np.dot(Ux,L) #compute residual"
   ]
  },
  {
   "cell_type": "code",
   "execution_count": 107,
   "metadata": {
    "collapsed": false
   },
   "outputs": [
    {
     "name": "stdout",
     "output_type": "stream",
     "text": [
      "(60000L, 100L)\n",
      "(100L, 100L)\n"
     ]
    }
   ],
   "source": [
    "J,W = np.linalg.qr(H) #compute QR decomposition\n",
    "print J.shape\n",
    "print W.shape"
   ]
  },
  {
   "cell_type": "code",
   "execution_count": 113,
   "metadata": {
    "collapsed": false
   },
   "outputs": [],
   "source": [
    "upper = np.concatenate((Sx,L),axis=1)"
   ]
  },
  {
   "cell_type": "code",
   "execution_count": 114,
   "metadata": {
    "collapsed": false
   },
   "outputs": [],
   "source": [
    "lower = np.concatenate((np.zeros((b,50)),W),axis = 1)"
   ]
  },
  {
   "cell_type": "code",
   "execution_count": 116,
   "metadata": {
    "collapsed": false
   },
   "outputs": [
    {
     "data": {
      "text/plain": [
       "(150L, 150L)"
      ]
     },
     "execution_count": 116,
     "metadata": {},
     "output_type": "execute_result"
    }
   ],
   "source": [
    "Q = np.concatenate((upper,lower),axis=0)\n",
    "Q.shape"
   ]
  },
  {
   "cell_type": "code",
   "execution_count": 117,
   "metadata": {
    "collapsed": true
   },
   "outputs": [],
   "source": [
    "U_approx,S_approx,Vt_approx = np.linalg.svd(Q)"
   ]
  },
  {
   "cell_type": "code",
   "execution_count": 121,
   "metadata": {
    "collapsed": false
   },
   "outputs": [
    {
     "data": {
      "text/plain": [
       "(150L, 150L)"
      ]
     },
     "execution_count": 121,
     "metadata": {},
     "output_type": "execute_result"
    }
   ],
   "source": [
    "U_approx.shape"
   ]
  },
  {
   "cell_type": "code",
   "execution_count": 122,
   "metadata": {
    "collapsed": true
   },
   "outputs": [],
   "source": [
    "temp = np.concatenate((Ux,J),axis=1)"
   ]
  },
  {
   "cell_type": "code",
   "execution_count": 124,
   "metadata": {
    "collapsed": false
   },
   "outputs": [],
   "source": [
    "new_U = np.dot(temp,U_approx)"
   ]
  },
  {
   "cell_type": "code",
   "execution_count": 128,
   "metadata": {
    "collapsed": false
   },
   "outputs": [
    {
     "data": {
      "text/plain": [
       "(150L,)"
      ]
     },
     "execution_count": 128,
     "metadata": {},
     "output_type": "execute_result"
    }
   ],
   "source": [
    "S_approx.shape #needs to be diaglonalised"
   ]
  },
  {
   "cell_type": "code",
   "execution_count": 133,
   "metadata": {
    "collapsed": false
   },
   "outputs": [],
   "source": [
    "upper = np.concatenate((Vx,np.zeros((50,b))),axis=1)\n",
    "lower = np.concatenate((np.zeros((b,50)),W),axis = 1)\n",
    "new_V = np.dot(np.concatenate((upper,lower),axis=0),Vt_approx.T)"
   ]
  },
  {
   "cell_type": "code",
   "execution_count": 134,
   "metadata": {
    "collapsed": false
   },
   "outputs": [
    {
     "data": {
      "text/plain": [
       "(150L, 150L)"
      ]
     },
     "execution_count": 134,
     "metadata": {},
     "output_type": "execute_result"
    }
   ],
   "source": [
    "new_V.shape"
   ]
  },
  {
   "cell_type": "code",
   "execution_count": 137,
   "metadata": {
    "collapsed": false
   },
   "outputs": [],
   "source": [
    "sorted_index = np.argsort(S_approx)[::-1]"
   ]
  },
  {
   "cell_type": "code",
   "execution_count": 145,
   "metadata": {
    "collapsed": false
   },
   "outputs": [],
   "source": [
    "test_new_U = new_U[:,sorted_index]"
   ]
  },
  {
   "cell_type": "code",
   "execution_count": 148,
   "metadata": {
    "collapsed": false
   },
   "outputs": [],
   "source": [
    "test_new_V = new_V[:,sorted_index]"
   ]
  },
  {
   "cell_type": "code",
   "execution_count": 80,
   "metadata": {
    "collapsed": false
   },
   "outputs": [],
   "source": [
    "test =pairwise_kernels(flatten_left[:50,:],metric='rbf')"
   ]
  },
  {
   "cell_type": "code",
   "execution_count": 149,
   "metadata": {
    "collapsed": true
   },
   "outputs": [],
   "source": [
    "x = np.array([[0, 3, 6,8], [2, 2,7,9]])"
   ]
  },
  {
   "cell_type": "code",
   "execution_count": 151,
   "metadata": {
    "collapsed": false
   },
   "outputs": [
    {
     "data": {
      "text/plain": [
       "array([[3, 8, 6, 0],\n",
       "       [2, 9, 7, 2]])"
      ]
     },
     "execution_count": 151,
     "metadata": {},
     "output_type": "execute_result"
    }
   ],
   "source": [
    "x[:,[1,3,2,0]]"
   ]
  },
  {
   "cell_type": "code",
   "execution_count": 152,
   "metadata": {
    "collapsed": false
   },
   "outputs": [
    {
     "data": {
      "text/plain": [
       "array([[0, 3, 6, 8],\n",
       "       [2, 2, 7, 9]])"
      ]
     },
     "execution_count": 152,
     "metadata": {},
     "output_type": "execute_result"
    }
   ],
   "source": [
    "x"
   ]
  },
  {
   "cell_type": "code",
   "execution_count": 82,
   "metadata": {
    "collapsed": false
   },
   "outputs": [
    {
     "data": {
      "text/plain": [
       "array([[ 0.,  0.,  0., ...,  0.,  0.,  0.],\n",
       "       [ 0.,  0.,  0., ...,  0.,  0.,  0.],\n",
       "       [ 0.,  0.,  0., ...,  0.,  0.,  0.],\n",
       "       ..., \n",
       "       [ 0.,  0.,  0., ...,  0.,  0.,  0.],\n",
       "       [ 0.,  0.,  0., ...,  0.,  0.,  0.],\n",
       "       [ 0.,  0.,  0., ...,  0.,  0.,  0.]])"
      ]
     },
     "execution_count": 82,
     "metadata": {},
     "output_type": "execute_result"
    }
   ],
   "source": [
    "Cx"
   ]
  },
  {
   "cell_type": "code",
   "execution_count": null,
   "metadata": {
    "collapsed": true
   },
   "outputs": [],
   "source": []
  }
 ],
 "metadata": {
  "kernelspec": {
   "display_name": "Python [Root]",
   "language": "python",
   "name": "Python [Root]"
  },
  "language_info": {
   "codemirror_mode": {
    "name": "ipython",
    "version": 2
   },
   "file_extension": ".py",
   "mimetype": "text/x-python",
   "name": "python",
   "nbconvert_exporter": "python",
   "pygments_lexer": "ipython2",
   "version": "2.7.12"
  }
 },
 "nbformat": 4,
 "nbformat_minor": 0
}
