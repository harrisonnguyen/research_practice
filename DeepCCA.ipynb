{
 "cells": [
  {
   "cell_type": "code",
   "execution_count": 1,
   "metadata": {
    "collapsed": false
   },
   "outputs": [],
   "source": [
    "import tensorflow as tf"
   ]
  },
  {
   "cell_type": "markdown",
   "metadata": {},
   "source": [
    "# Define nodes"
   ]
  },
  {
   "cell_type": "code",
   "execution_count": 2,
   "metadata": {
    "collapsed": true
   },
   "outputs": [],
   "source": [
    "# the input layer of right left and right images\n",
    "input_width = 392\n",
    "m = 1000\n",
    "left_input = tf.placeholder(tf.float32, shape = [None,input_width])\n",
    "right_input = tf.placeholder(tf.float32, shape = [None,input_width])"
   ]
  },
  {
   "cell_type": "code",
   "execution_count": 3,
   "metadata": {
    "collapsed": true
   },
   "outputs": [],
   "source": [
    "def weight_variable(shape):\n",
    "  initial = tf.truncated_normal(shape, stddev=0.1)\n",
    "  return tf.Variable(initial)\n",
    "\n",
    "def bias_variable(shape):\n",
    "  initial = tf.constant(0.1, shape=shape)\n",
    "  return tf.Variable(initial)"
   ]
  },
  {
   "cell_type": "markdown",
   "metadata": {},
   "source": [
    "## The first layer"
   ]
  },
  {
   "cell_type": "code",
   "execution_count": 4,
   "metadata": {
    "collapsed": false
   },
   "outputs": [],
   "source": [
    "o = 50 #variable to store no of output nodes\n",
    "c_left = 2038 #width of hidden layer of left images\n",
    "c_right = 1608 #right images\n",
    "W_left1 = weight_variable([input_width,c_left]) #weights for input layer -> hidden\n",
    "W_right1 = weight_variable([input_width,c_right])\n",
    "\n",
    "#bias variables\n",
    "b_left1 = bias_variable([c_left])\n",
    "b_right1 = bias_variable([c_right])"
   ]
  },
  {
   "cell_type": "markdown",
   "metadata": {},
   "source": [
    "The authors propose a new activation function given as\n",
    "$$s(x) = g^{-1}(x) $$ \n",
    "where \n",
    "$$ g(x) = x^3/3 + x $$"
   ]
  },
  {
   "cell_type": "code",
   "execution_count": 5,
   "metadata": {
    "collapsed": true
   },
   "outputs": [],
   "source": [
    "def activation(x,W, b):\n",
    "    z = tf.matmul(x,W) + b\n",
    "    return tf.inv((z**3)/3 + z)"
   ]
  },
  {
   "cell_type": "code",
   "execution_count": 6,
   "metadata": {
    "collapsed": false
   },
   "outputs": [],
   "source": [
    "#computation of the nodes of the first layer\n",
    "h_left1 = activation(left_input,W_left1,b_left1)\n",
    "h_right1 = activation(right_input,W_right1,b_right1)"
   ]
  },
  {
   "cell_type": "markdown",
   "metadata": {},
   "source": [
    "# The second layer"
   ]
  },
  {
   "cell_type": "code",
   "execution_count": 7,
   "metadata": {
    "collapsed": true
   },
   "outputs": [],
   "source": [
    "#weights of hidden layer ->output\n",
    "W_left2 = weight_variable([c_left,o])\n",
    "W_right2 = weight_variable([c_right,o])\n",
    "\n",
    "#bias variables\n",
    "b_left2 = bias_variable([o])\n",
    "b_right2 = bias_variable([o])\n",
    "\n",
    "#computation of the nodes at the output\n",
    "output_left = activation(h_left1,W_left2,b_left2)\n",
    "output_right = activation(h_right1,W_right2,b_right2)"
   ]
  },
  {
   "cell_type": "markdown",
   "metadata": {},
   "source": [
    "# Objective function"
   ]
  },
  {
   "cell_type": "markdown",
   "metadata": {},
   "source": [
    "We centre the output matrices\n",
    "$$ \\bar{H}_1 = H_1 - \\frac{1}{m}H_1\\mathbf{1} $$\n",
    "where $H_1$ is a $o\\times m$ matrix"
   ]
  },
  {
   "cell_type": "code",
   "execution_count": 8,
   "metadata": {
    "collapsed": true
   },
   "outputs": [],
   "source": [
    "H1_bar = tf.transpose(output_left - output_left/m)\n",
    "H2_bar = tf.transpose(output_right - output_right/m)"
   ]
  },
  {
   "cell_type": "markdown",
   "metadata": {},
   "source": [
    "We find the covariance matrix\n",
    "$$ \\hat{\\Sigma}_{12} = \\frac{1}{m-1} \\bar{H}_1\\bar{H}_2' $$\n",
    "and \n",
    "$$ \\hat{\\Sigma}_{11} = \\frac{1}{m-1} \\bar{H}_1\\bar{H}_1' +r_1I$$"
   ]
  },
  {
   "cell_type": "code",
   "execution_count": 9,
   "metadata": {
    "collapsed": true
   },
   "outputs": [],
   "source": [
    "r1 = 2\n",
    "r2 = 2\n",
    "sigma12 = tf.matmul(H1_bar, tf.transpose(H2_bar))/(m-1)\n",
    "sigma11 = tf.matmul(H1_bar,tf.transpose(H1_bar))/(m-1) + r1*tf.ones([o,o])\n",
    "sigma22 = tf.matmul(H2_bar,tf.transpose(H2_bar))/(m-1) + r2*tf.ones([o,o])"
   ]
  },
  {
   "cell_type": "markdown",
   "metadata": {},
   "source": [
    "The total correlation of the components of matrix \n",
    "$$ T = \\hat{\\Sigma}_{11}^{-1/2}\\hat{\\Sigma}_{12}\\hat{\\Sigma}_{22}^{-1/2} $$\n",
    "is given as\n",
    "$$corr(H_1,H_2) = tr(T'T)^{1/2} $$"
   ]
  },
  {
   "cell_type": "code",
   "execution_count": 10,
   "metadata": {
    "collapsed": false
   },
   "outputs": [],
   "source": [
    "#Function that performs matrix square root\n",
    "#we perform the sqrt root by doing a svd\n",
    "def matrix_sqrt(X):\n",
    "    #s are singular values, u is matrix on the left\n",
    "    #v is matrix on the right\n",
    "    s,u,v = tf.svd(X,compute_uv = True,full_matrices = True)\n",
    "    s = tf.diagonal(tf.sqrt(s)) #take the sqrt of the elements\n",
    "    return tf.matmul(tf.matmul(u,s),tf.transpose(v))"
   ]
  },
  {
   "cell_type": "code",
   "execution_count": 11,
   "metadata": {
    "collapsed": false
   },
   "outputs": [
    {
     "ename": "AttributeError",
     "evalue": "'module' object has no attribute 'svd'",
     "output_type": "error",
     "traceback": [
      "\u001b[0;31m---------------------------------------------------------------------------\u001b[0m",
      "\u001b[0;31mAttributeError\u001b[0m                            Traceback (most recent call last)",
      "\u001b[0;32m<ipython-input-11-62bd29a71437>\u001b[0m in \u001b[0;36m<module>\u001b[0;34m()\u001b[0m\n\u001b[0;32m----> 1\u001b[0;31m \u001b[0msigma11_sqrtinv\u001b[0m \u001b[0;34m=\u001b[0m \u001b[0mtf\u001b[0m\u001b[0;34m.\u001b[0m\u001b[0mmatrix_inverse\u001b[0m\u001b[0;34m(\u001b[0m\u001b[0mmatrix_sqrt\u001b[0m\u001b[0;34m(\u001b[0m\u001b[0msigma11\u001b[0m\u001b[0;34m)\u001b[0m\u001b[0;34m)\u001b[0m\u001b[0;34m\u001b[0m\u001b[0m\n\u001b[0m\u001b[1;32m      2\u001b[0m \u001b[0msigma22_sqrtinv\u001b[0m \u001b[0;34m=\u001b[0m \u001b[0mtf\u001b[0m\u001b[0;34m.\u001b[0m\u001b[0mmatrix_inverse\u001b[0m\u001b[0;34m(\u001b[0m\u001b[0mmatrix_sqrt\u001b[0m\u001b[0;34m(\u001b[0m\u001b[0msigma22\u001b[0m\u001b[0;34m)\u001b[0m\u001b[0;34m)\u001b[0m\u001b[0;34m\u001b[0m\u001b[0m\n\u001b[1;32m      3\u001b[0m \u001b[0;34m\u001b[0m\u001b[0m\n\u001b[1;32m      4\u001b[0m \u001b[0mT\u001b[0m \u001b[0;34m=\u001b[0m \u001b[0mtf\u001b[0m\u001b[0;34m.\u001b[0m\u001b[0mmatmul\u001b[0m\u001b[0;34m(\u001b[0m\u001b[0mtf\u001b[0m\u001b[0;34m.\u001b[0m\u001b[0mmatmul\u001b[0m\u001b[0;34m(\u001b[0m\u001b[0msigma11_sqrtinv\u001b[0m\u001b[0;34m,\u001b[0m\u001b[0msigma12\u001b[0m\u001b[0;34m)\u001b[0m\u001b[0;34m,\u001b[0m\u001b[0msigma22_sqrtinv\u001b[0m\u001b[0;34m)\u001b[0m\u001b[0;34m\u001b[0m\u001b[0m\n",
      "\u001b[0;32m<ipython-input-10-e45c9ca2e95c>\u001b[0m in \u001b[0;36mmatrix_sqrt\u001b[0;34m(X)\u001b[0m\n\u001b[1;32m      4\u001b[0m     \u001b[0;31m#s are singular values, u is matrix on the left\u001b[0m\u001b[0;34m\u001b[0m\u001b[0;34m\u001b[0m\u001b[0m\n\u001b[1;32m      5\u001b[0m     \u001b[0;31m#v is matrix on the right\u001b[0m\u001b[0;34m\u001b[0m\u001b[0;34m\u001b[0m\u001b[0m\n\u001b[0;32m----> 6\u001b[0;31m     \u001b[0ms\u001b[0m\u001b[0;34m,\u001b[0m\u001b[0mu\u001b[0m\u001b[0;34m,\u001b[0m\u001b[0mv\u001b[0m \u001b[0;34m=\u001b[0m \u001b[0mtf\u001b[0m\u001b[0;34m.\u001b[0m\u001b[0msvd\u001b[0m\u001b[0;34m(\u001b[0m\u001b[0mX\u001b[0m\u001b[0;34m,\u001b[0m\u001b[0mcompute_uv\u001b[0m \u001b[0;34m=\u001b[0m \u001b[0mTrue\u001b[0m\u001b[0;34m,\u001b[0m\u001b[0mfull_matrices\u001b[0m \u001b[0;34m=\u001b[0m \u001b[0mTrue\u001b[0m\u001b[0;34m)\u001b[0m\u001b[0;34m\u001b[0m\u001b[0m\n\u001b[0m\u001b[1;32m      7\u001b[0m     \u001b[0ms\u001b[0m \u001b[0;34m=\u001b[0m \u001b[0mtf\u001b[0m\u001b[0;34m.\u001b[0m\u001b[0mdiagonal\u001b[0m\u001b[0;34m(\u001b[0m\u001b[0mtf\u001b[0m\u001b[0;34m.\u001b[0m\u001b[0msqrt\u001b[0m\u001b[0;34m(\u001b[0m\u001b[0ms\u001b[0m\u001b[0;34m)\u001b[0m\u001b[0;34m)\u001b[0m \u001b[0;31m#take the sqrt of the elements\u001b[0m\u001b[0;34m\u001b[0m\u001b[0m\n\u001b[1;32m      8\u001b[0m     \u001b[0;32mreturn\u001b[0m \u001b[0mtf\u001b[0m\u001b[0;34m.\u001b[0m\u001b[0mmatmul\u001b[0m\u001b[0;34m(\u001b[0m\u001b[0mtf\u001b[0m\u001b[0;34m.\u001b[0m\u001b[0mmatmul\u001b[0m\u001b[0;34m(\u001b[0m\u001b[0mu\u001b[0m\u001b[0;34m,\u001b[0m\u001b[0ms\u001b[0m\u001b[0;34m)\u001b[0m\u001b[0;34m,\u001b[0m\u001b[0mtf\u001b[0m\u001b[0;34m.\u001b[0m\u001b[0mtranspose\u001b[0m\u001b[0;34m(\u001b[0m\u001b[0mv\u001b[0m\u001b[0;34m)\u001b[0m\u001b[0;34m)\u001b[0m\u001b[0;34m\u001b[0m\u001b[0m\n",
      "\u001b[0;31mAttributeError\u001b[0m: 'module' object has no attribute 'svd'"
     ]
    }
   ],
   "source": [
    "sigma11_sqrtinv = tf.matrix_inverse(matrix_sqrt(sigma11))\n",
    "sigma22_sqrtinv = tf.matrix_inverse(matrix_sqrt(sigma22))\n",
    "\n",
    "T = tf.matmul(tf.matmul(sigma11_sqrtinv,sigma12),sigma22_sqrtinv)"
   ]
  },
  {
   "cell_type": "code",
   "execution_count": null,
   "metadata": {
    "collapsed": false
   },
   "outputs": [],
   "source": [
    "corr = tf.trace(matrix_sqrt(tf.matmul(tf.transpose(T),T)))"
   ]
  },
  {
   "cell_type": "code",
   "execution_count": null,
   "metadata": {
    "collapsed": false
   },
   "outputs": [],
   "source": [
    "# We train using adam optimiser. The paper suggests using full batch\n",
    "# L-BFGS\n",
    "tran_step = tf.train.AdamOptimizer(learning_rate = 0.5).minimize(corr)"
   ]
  },
  {
   "cell_type": "code",
   "execution_count": null,
   "metadata": {
    "collapsed": false
   },
   "outputs": [],
   "source": [
    "test = tf.load_op_library('/home/hngu4068/Documents/tensorflow/svd_op.so')"
   ]
  },
  {
   "cell_type": "code",
   "execution_count": null,
   "metadata": {
    "collapsed": true
   },
   "outputs": [],
   "source": [
    "test = tf.load_op_library('/home/hngu4068/Documents/zero_out.so')"
   ]
  },
  {
   "cell_type": "code",
   "execution_count": null,
   "metadata": {
    "collapsed": true
   },
   "outputs": [],
   "source": []
  }
 ],
 "metadata": {
  "kernelspec": {
   "display_name": "Python 2",
   "language": "python",
   "name": "python2"
  },
  "language_info": {
   "codemirror_mode": {
    "name": "ipython",
    "version": 2
   },
   "file_extension": ".py",
   "mimetype": "text/x-python",
   "name": "python",
   "nbconvert_exporter": "python",
   "pygments_lexer": "ipython2",
   "version": "2.7.12"
  }
 },
 "nbformat": 4,
 "nbformat_minor": 1
}
